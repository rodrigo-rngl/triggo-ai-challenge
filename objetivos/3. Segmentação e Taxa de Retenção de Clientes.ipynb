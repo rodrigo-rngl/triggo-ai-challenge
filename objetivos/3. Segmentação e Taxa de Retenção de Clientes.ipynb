{
 "cells": [
  {
   "cell_type": "markdown",
   "id": "054cb42d",
   "metadata": {},
   "source": [
    "# Segmentação e Taxa de Retenção de Clientes\n",
    "\n",
    "O objetivo deste notebook é segmentar os clientes presentes na base de dados e calcular a taxa de rentenção de clientes com base na frequência de pedido."
   ]
  },
  {
   "cell_type": "markdown",
   "id": "8207dbf4",
   "metadata": {},
   "source": [
    "## Importação de Bibliotecas"
   ]
  },
  {
   "cell_type": "code",
   "execution_count": 31,
   "id": "59dce63c",
   "metadata": {},
   "outputs": [],
   "source": [
    "import pandas as pd\n"
   ]
  },
  {
   "cell_type": "markdown",
   "id": "5167b255",
   "metadata": {},
   "source": [
    "## Importação de Dados"
   ]
  },
  {
   "cell_type": "code",
   "execution_count": 32,
   "id": "105cbac3",
   "metadata": {},
   "outputs": [],
   "source": [
    "df = pd.read_csv('../data/clean_general_df.csv')"
   ]
  },
  {
   "cell_type": "markdown",
   "id": "d89ffa07",
   "metadata": {},
   "source": [
    "## Preparação dos Dados"
   ]
  },
  {
   "cell_type": "code",
   "execution_count": 33,
   "id": "47c6a653",
   "metadata": {},
   "outputs": [],
   "source": [
    "# Converter colunas de data em datetime\n",
    "df['order_purchase_timestamp'] = pd.to_datetime(df['order_purchase_timestamp'])"
   ]
  },
  {
   "cell_type": "code",
   "execution_count": 34,
   "id": "f7c5d0d2",
   "metadata": {},
   "outputs": [],
   "source": [
    "# Pedidos entregues com data válida\n",
    "df = df[df['order_status'] != 'canceled']\n",
    "df = df.dropna(subset=['order_purchase_timestamp', 'payment_value'])"
   ]
  },
  {
   "cell_type": "markdown",
   "id": "2b5e7553",
   "metadata": {},
   "source": [
    "## Segmentação"
   ]
  },
  {
   "cell_type": "code",
   "execution_count": 35,
   "id": "5964ba6e",
   "metadata": {},
   "outputs": [],
   "source": [
    "rfm = df.groupby('customer_unique_id').agg({\n",
    "    'order_purchase_timestamp': lambda x: (df['order_purchase_timestamp'].max() - x.max()).days,\n",
    "    'order_id': 'nunique',\n",
    "    'payment_value': 'sum'\n",
    "}).reset_index()\n",
    "\n",
    "rfm.columns = ['customer_id', 'Recency', 'Frequency', 'Monetary']\n"
   ]
  },
  {
   "cell_type": "code",
   "execution_count": 36,
   "id": "85233e95",
   "metadata": {},
   "outputs": [],
   "source": [
    "# Atribuir scores RFM (1 = pior, 4 = melhor)\n",
    "rfm['recency_score'] = pd.qcut(rfm['Recency'], q= 5, labels=[5, 4, 3, 2, 1]).astype(int)\n",
    "rfm['frequency_score'] = pd.qcut(rfm['Frequency'].rank(method=\"first\"), q= 5, labels=[1, 2, 3, 4, 5]).astype(int)\n",
    "rfm['monetary_score'] = pd.qcut(rfm['Monetary'], q= 5, labels=[1, 2, 3, 4, 5]).astype(int)\n",
    "rfm['freq_and_mon_score'] = ((rfm['frequency_score'] + rfm['monetary_score']) / 2).round().astype(int)"
   ]
  },
  {
   "cell_type": "markdown",
   "id": "9d27de2b",
   "metadata": {},
   "source": [
    "Os clusters para a segmentação do clientes serão construídos com base no mapeamento do Modelo RFM de segmentação de clientes, conforme o mapa abaixo:\n",
    "\n",
    "![segment-map](../img/segment-map.jpg)"
   ]
  },
  {
   "cell_type": "code",
   "execution_count": 37,
   "id": "796464af",
   "metadata": {},
   "outputs": [],
   "source": [
    "def segment_customers(rfm):\n",
    "    \"\"\"\n",
    "    Segmenta clientes com base em uma matriz R x FM usando mapeamento direto.\n",
    "    \"\"\"\n",
    "    # Tabela de segmentação baseada no gráfico\n",
    "    segments_map = {\n",
    "        (5, 5): 'Champions',\n",
    "        (5, 4): 'Loyal Customers',\n",
    "        (5, 3): 'Loyal Customers',\n",
    "        (5, 2): 'New Customers',\n",
    "        (5, 1): 'New Customers',\n",
    "        (4, 5): 'Potential Loyalist',\n",
    "        (4, 4): 'Potential Loyalist',\n",
    "        (4, 3): 'Potential Loyalist',\n",
    "        (4, 2): 'Promising',\n",
    "        (4, 1): 'Promising',\n",
    "        (3, 5): 'Loyal Customers',\n",
    "        (3, 4): 'Loyal Customers',\n",
    "        (3, 3): 'Need Attention',\n",
    "        (3, 2): 'About To Sleep',\n",
    "        (3, 1): 'About To Sleep',\n",
    "        (2, 5): \"Can't Loose Them\",\n",
    "        (2, 4): \"Can't Loose Them\",\n",
    "        (2, 3): \"At Risk\",\n",
    "        (2, 2): 'Hibernating',\n",
    "        (2, 1): 'Hibernating',\n",
    "        (1, 5): \"Can't Loose Them\",\n",
    "        (1, 4): \"Can't Loose Them\",\n",
    "        (1, 3): \"At Risk\",\n",
    "        (1, 2): 'Hibernating',\n",
    "        (1, 1): 'Lost'\n",
    "    }\n",
    "\n",
    "    def classify(row):\n",
    "        return segments_map.get((row['recency_score'], row['freq_and_mon_score']))\n",
    "\n",
    "    rfm['segments'] = rfm.apply(classify, axis=1)\n",
    "    return rfm"
   ]
  },
  {
   "cell_type": "code",
   "execution_count": 38,
   "id": "f3105848",
   "metadata": {},
   "outputs": [
    {
     "data": {
      "text/plain": [
       "segments\n",
       "Loyal Customers       17897\n",
       "Can't Loose Them      14985\n",
       "Hibernating           14854\n",
       "Potential Loyalist    11536\n",
       "About To Sleep         7821\n",
       "New Customers          7783\n",
       "Promising              7675\n",
       "At Risk                7427\n",
       "Need Attention         3784\n",
       "Champions               982\n",
       "Lost                    815\n",
       "Name: count, dtype: int64"
      ]
     },
     "execution_count": 38,
     "metadata": {},
     "output_type": "execute_result"
    }
   ],
   "source": [
    "rfm = segment_customers(rfm)\n",
    "\n",
    "rfm['segments'].value_counts(ascending= False)"
   ]
  },
  {
   "cell_type": "markdown",
   "id": "ab818e6c",
   "metadata": {},
   "source": [
    "Ao alocar os clientes nos clusters do modelo RFM, podemos criar estratégias sólidas de marketing para cada cluster:\n",
    "- **Campeões**: Oferecer recompensas exclusivas e antecipar lançamentos.\n",
    "- **Clientes Leais**: Implementar programa de fidelidade com benefícios progressivos.\n",
    "- **Não posso perder**: Enviar campanhas personalizadas de reengajamento com ofertas especiais.\n",
    "- **Hibernando**: Lançar promoções de “última chance” para estimular retorno.\n",
    "- **Clientes Fiéis em Potencial**: Incentivar a fidelização com cashback ou frete grátis.\n",
    "- **Quase dormindo**: Disparar e-mails de reativação com produtos recomendados.\n",
    "- **Clientes Novos**: Oferecer cupom de desconto para a segunda compra.\n",
    "- **Promessas**: Enviar sugestões de produtos complementares.\n",
    "- **Em Risco**: Criar campanhas urgentes com ofertas exclusivas e limitadas.\n",
    "- **Precisa de Atenção**: Aplicar pesquisa rápida para entender e recuperar o interesse.\n",
    "- **Perdidos**: Enviar última campanha de recuperação com oferta muito atrativa."
   ]
  },
  {
   "cell_type": "markdown",
   "id": "1d16516f",
   "metadata": {},
   "source": [
    "## Taxa de Retenção de Clientes"
   ]
  },
  {
   "cell_type": "code",
   "execution_count": 39,
   "id": "bc0c47e9",
   "metadata": {},
   "outputs": [
    {
     "name": "stdout",
     "output_type": "stream",
     "text": [
      "A taxa de retenção de clientes é de 3.06%\n"
     ]
    }
   ],
   "source": [
    "customers_group = df.groupby('customer_unique_id')['order_id'].nunique().reset_index()\n",
    "returned_customers = customers_group[customers_group['order_id'] > 1]\n",
    "\n",
    "returned_customers_rate = round((returned_customers.shape[0] / customers_group.shape[0]) * 100, 2)\n",
    "print(f'A taxa de retenção de clientes é de {returned_customers_rate}%')"
   ]
  },
  {
   "cell_type": "markdown",
   "id": "75b8b76a",
   "metadata": {},
   "source": [
    "A taxa de retenção de clientes é extremamente pequena, evidenciando que o e-commerce tem problemas de manter os seus clientes ativos e frequentes. Esse fato é constatado ao observar a quantidade expressiva de clientes em segmentos de baixa frequência e recência."
   ]
  }
 ],
 "metadata": {
  "kernelspec": {
   "display_name": "triggo-ai-challenge",
   "language": "python",
   "name": "python3"
  },
  "language_info": {
   "codemirror_mode": {
    "name": "ipython",
    "version": 3
   },
   "file_extension": ".py",
   "mimetype": "text/x-python",
   "name": "python",
   "nbconvert_exporter": "python",
   "pygments_lexer": "ipython3",
   "version": "3.11.6"
  }
 },
 "nbformat": 4,
 "nbformat_minor": 5
}
